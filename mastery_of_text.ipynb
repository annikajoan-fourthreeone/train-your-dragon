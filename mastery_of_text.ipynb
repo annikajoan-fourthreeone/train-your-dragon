{
 "cells": [
  {
   "cell_type": "code",
   "execution_count": 20,
   "id": "424ff373-0310-40d8-a862-8796e95639b9",
   "metadata": {},
   "outputs": [
    {
     "name": "stdout",
     "output_type": "stream",
     "text": [
      "The string has 99968 lines.\n"
     ]
    }
   ],
   "source": [
    "'''urllib.request - To download the KJV Bible from a URL'''\n",
    "\n",
    "import urllib.request\n",
    "\n",
    "'''Step 1: Downloading the KJV Bible as pg10.txt'''\n",
    "urllib.request.urlretrieve(\"https://www.gutenberg.org/cache/epub/10/pg10.txt\", \"pg10.txt\")\n",
    "\n",
    "'''\n",
    "Step 2: Setting pg10 as a variable containing strings from pg10.txt\n",
    "    via the 'read' function\n",
    "'''\n",
    "with open(\"pg10.txt\", \"r\", encoding='utf-8') as f:\n",
    "    pg10 = f.read()\n",
    "\n",
    "'''\n",
    "Step 3: Counting the number of lines in pg10 via splitting the string into lines\n",
    "    then counting the length\n",
    "'''\n",
    "num_lines = len(pg10.splitlines())\n",
    "print(\"The string has \" + str(num_lines) + \" lines.\")"
   ]
  },
  {
   "cell_type": "code",
   "execution_count": 25,
   "id": "b944b7c8-6356-47a0-aaa0-e76d453c16fb",
   "metadata": {},
   "outputs": [
    {
     "name": "stdout",
     "output_type": "stream",
     "text": [
      "The string has 795227 words.\n"
     ]
    }
   ],
   "source": [
    "'''\n",
    "Step 4: Counting the number of words in pg10 via examining each combination of letters.\n",
    "    If it is a sequence of directly-adjacent alphabet characters (via 'isalpha'), then we add it to the words list.\n",
    "    Following this, each word is converted into lower-case to allow for non-case-sentitivity.\n",
    "    Then, we count the total number of words via len(words)\n",
    "'''\n",
    "words = []\n",
    "word = ''\n",
    "for char in pg10:\n",
    "    if char.isalpha():\n",
    "        word += char\n",
    "    else:\n",
    "        if word:\n",
    "            cleaned_word = word.lower()\n",
    "            words.append(cleaned_word)\n",
    "            word = ''\n",
    "if word:  \n",
    "    cleaned_word = word.lower()\n",
    "    words.append(cleaned_word)\n",
    "\n",
    "num_words = len(words)\n",
    "print(\"The string has \"+ str(num_words) + \" words.\")"
   ]
  },
  {
   "cell_type": "code",
   "execution_count": 27,
   "id": "7d3c9f55-dc6a-47c7-8eec-5a1dbbcae655",
   "metadata": {},
   "outputs": [
    {
     "name": "stdout",
     "output_type": "stream",
     "text": [
      "The word 'apostle' appears 113 times.\n"
     ]
    }
   ],
   "source": [
    "'''\n",
    "Step 5: Counting the number of times 'apostle' appears in pg10 via using the existing 'words' list. This includes possibilities\n",
    "    such as apostle appearing in words eg. 'apostles', apostles being hyphenated or apostrophed eg. 'apostle's', and if it is \n",
    "    beside a punctuation mark eg. 'apostles!'. In any of these cases, the code will \"non-case-sensitive\" the word, then clean it up before\n",
    "    and add it to the list. Following this, the number of instances will be counted in increments of 1 and summed.\n",
    "'''\n",
    "\n",
    "apostle = []\n",
    "apostle_word = ''\n",
    "for char in pg10:\n",
    "    if char.isalpha() or char in [\"'\", \"-\"]:\n",
    "        apostle_word += char\n",
    "    else:\n",
    "        if apostle_word:\n",
    "            cleaned_apostle = apostle_word.lower().rstrip(\".;:,!?\")\n",
    "            apostle.append(cleaned_apostle)\n",
    "            apostle_word = ''\n",
    "if apostle_word:  \n",
    "    cleaned_apostle = apostle_word.lower().rstrip(\".;:,!?\")\n",
    "    apostle.append(cleaned_apostle) \n",
    "\n",
    "apostle_count = sum(1 for w in apostle if \"apostle\" in w)\n",
    "print(\"The word 'apostle' appears \" + str(apostle_count) + \" times.\")"
   ]
  },
  {
   "cell_type": "code",
   "execution_count": 28,
   "id": "35f0e623-3a5e-4b65-ad5d-090aa2d5ef00",
   "metadata": {},
   "outputs": [
    {
     "name": "stdout",
     "output_type": "stream",
     "text": [
      "The most common word is 'the'.\n"
     ]
    }
   ],
   "source": [
    "'''\n",
    "Step 6: Identifying the most common word using a loop:\n",
    "        First, creating an empty dictionary in which to store the words' number of occurrences.\n",
    "        Second, getting the count of each word (w), which starts the count at 1 if the word appears for\n",
    "        the first time and adding 1 to the count if the word was already  found.\n",
    "        Lastly, saving the count to the dictionary, and finding the word with the highest frequency via 'max' and\n",
    "        'word_count.get'.\n",
    "'''\n",
    "word_count = {}\n",
    "for w in words:\n",
    "    if w in word_count:\n",
    "        word_count[w] += 1\n",
    "    else:\n",
    "        word_count[w] = 1\n",
    "        \n",
    "most_common_word = max(word_count, key=word_count.get)\n",
    "print(\"The most common word is '\" + str(most_common_word) + \"'.\")"
   ]
  },
  {
   "cell_type": "code",
   "execution_count": null,
   "id": "cbc7e57a-1258-4b3f-8ef2-b71645f7d2c9",
   "metadata": {},
   "outputs": [],
   "source": []
  }
 ],
 "metadata": {
  "kernelspec": {
   "display_name": "Python [conda env:base] *",
   "language": "python",
   "name": "conda-base-py"
  },
  "language_info": {
   "codemirror_mode": {
    "name": "ipython",
    "version": 3
   },
   "file_extension": ".py",
   "mimetype": "text/x-python",
   "name": "python",
   "nbconvert_exporter": "python",
   "pygments_lexer": "ipython3",
   "version": "3.12.7"
  }
 },
 "nbformat": 4,
 "nbformat_minor": 5
}
